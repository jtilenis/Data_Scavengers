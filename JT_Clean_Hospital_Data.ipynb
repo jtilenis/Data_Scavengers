{
 "cells": [
  {
   "cell_type": "code",
   "execution_count": 1,
   "metadata": {},
   "outputs": [],
   "source": [
    "import requests\n",
    "import json\n",
    "import requests\n",
    "from pprint import pprint\n",
    "import pandas as pd\n",
    "import gmaps\n",
    "import matplotlib.pyplot as plt\n"
   ]
  },
  {
   "cell_type": "code",
   "execution_count": 2,
   "metadata": {},
   "outputs": [],
   "source": [
    "# Store filepath in a variable\n",
    "hospital_data = \"Cleaned_Hospitals_v8.csv\"\n",
    "\n"
   ]
  },
  {
   "cell_type": "code",
   "execution_count": 3,
   "metadata": {},
   "outputs": [
    {
     "data": {
      "text/plain": [
       "Unnamed: 0               int64\n",
       "Hospital name           object\n",
       "City                    object\n",
       "County                  object\n",
       "Acute Care Beds          int64\n",
       "YearFounded             object\n",
       "Affiliation             object\n",
       "Notes                   object\n",
       "Place ID                object\n",
       "Latitude               float64\n",
       "Hospital Longtitude    float64\n",
       "Street Address          object\n",
       "State                   object\n",
       "Hospital Zip Code      float64\n",
       "Full Address            object\n",
       "Median Income            int64\n",
       "Population               int64\n",
       "Joined                  object\n",
       "dtype: object"
      ]
     },
     "execution_count": 3,
     "metadata": {},
     "output_type": "execute_result"
    }
   ],
   "source": [
    "# Read our Data file with the pandas library\n",
    "# Not every CSV requires an encoding, but be aware this can come up\n",
    "hospital_df = pd.read_csv(hospital_data, encoding=\"ISO-8859-1\")\n",
    "hospital_df.dtypes"
   ]
  },
  {
   "cell_type": "code",
   "execution_count": 4,
   "metadata": {},
   "outputs": [
    {
     "data": {
      "text/plain": [
       "0      30701.0\n",
       "1      30705.0\n",
       "2      31792.0\n",
       "3      31643.0\n",
       "4      31730.0\n",
       "        ...   \n",
       "602        NaN\n",
       "603    30097.0\n",
       "604    31558.0\n",
       "605    30240.0\n",
       "606    30092.0\n",
       "Name: Hospital Zip Code, Length: 607, dtype: float64"
      ]
     },
     "execution_count": 4,
     "metadata": {},
     "output_type": "execute_result"
    }
   ],
   "source": [
    "old_zip = hospital_df[\"Hospital Zip Code\"]\n",
    "old_zip"
   ]
  },
  {
   "cell_type": "code",
   "execution_count": 5,
   "metadata": {
    "scrolled": false
   },
   "outputs": [
    {
     "data": {
      "text/plain": [
       "array([30701., 30705., 31792., 31643., 31730., 31201., 31217., 31210.,\n",
       "       31014., 30265., 30439., 30120., 30546., 30322., 30303., 30342.,\n",
       "       30308., 30309., 30312., 31634., 31533., 31768., 31015., 30909.,\n",
       "       30904., 30912., 31023., 31750., 30458., 31329., 30635., 30401.,\n",
       "       30033., 30058., 30084., 30417., 31021., 31063., 30165., 30125.,\n",
       "       30720., 30110., 31093., 31069., 31774., 31064., 31539., 30442.,\n",
       "       31313., 30474., 31008., 31501., 31029., 30650., 31061., 30501.,\n",
       "       30680., 30517., 30533., 30529., 30115., 30096., 30041., 30046.,\n",
       "       30467., 30453., 31701., 31719., 31791., 30606., 31901., 31909.,\n",
       "       30214., 30143., 30014., 30012., 30655., 31024., 31602., 31639.,\n",
       "       31635., 31520., 30274., 31620., 31794., 30642., 30553., 30577.,\n",
       "       30117., 30180., 31036., 30512., 30824., 30286., 31830., 31082.,\n",
       "       31545., 30106., 30134., 30060., 30076., 30141., 30224., 30233.,\n",
       "       30673., 31405., 31404., 30742., 30513., 30535.,    nan, 30097.,\n",
       "       31558., 30240., 30092.])"
      ]
     },
     "execution_count": 5,
     "metadata": {},
     "output_type": "execute_result"
    }
   ],
   "source": [
    "hospital_df[\"Hospital Zip Code\"].unique()"
   ]
  },
  {
   "cell_type": "code",
   "execution_count": 7,
   "metadata": {},
   "outputs": [
    {
     "data": {
      "text/plain": [
       "array([30701., 30705., 31792., 31643., 31730., 31201., 31217., 31210.,\n",
       "       31014., 30265., 30439., 30120., 30546., 30322., 30303., 30342.,\n",
       "       30308., 30309., 30312., 31634., 31533., 31768., 31015., 30909.,\n",
       "       30904., 30912., 31023., 31750., 30458., 31329., 30635., 30401.,\n",
       "       30033., 30058., 30084., 30417., 31021., 31063., 30165., 30125.,\n",
       "       30720., 30110., 31093., 31069., 31774., 31064., 31539., 30442.,\n",
       "       31313., 30474., 31008., 31501., 31029., 30650., 31061., 30501.,\n",
       "       30680., 30517., 30533., 30529., 30115., 30096., 30041., 30046.,\n",
       "       30467., 30453., 31701., 31719., 31791., 30606., 31901., 31909.,\n",
       "       30214., 30143., 30014., 30012., 30655., 31024., 31602., 31639.,\n",
       "       31635., 31520., 30274., 31620., 31794., 30642., 30553., 30577.,\n",
       "       30117., 30180., 31036., 30512., 30824., 30286., 31830., 31082.,\n",
       "       31545., 30106., 30134., 30060., 30076., 30141., 30224., 30233.,\n",
       "       30673., 31405., 31404., 30742., 30513., 30535.,     0., 30097.,\n",
       "       31558., 30240., 30092.])"
      ]
     },
     "execution_count": 7,
     "metadata": {},
     "output_type": "execute_result"
    }
   ],
   "source": [
    "hospital_df['Hospital Zip Code'] = hospital_df['Hospital Zip Code'].fillna (0)\n",
    "hospital_df[\"Hospital Zip Code\"].unique()"
   ]
  },
  {
   "cell_type": "code",
   "execution_count": 9,
   "metadata": {},
   "outputs": [
    {
     "data": {
      "text/plain": [
       "array([30701, 30705, 31792, 31643, 31730, 31201, 31217, 31210, 31014,\n",
       "       30265, 30439, 30120, 30546, 30322, 30303, 30342, 30308, 30309,\n",
       "       30312, 31634, 31533, 31768, 31015, 30909, 30904, 30912, 31023,\n",
       "       31750, 30458, 31329, 30635, 30401, 30033, 30058, 30084, 30417,\n",
       "       31021, 31063, 30165, 30125, 30720, 30110, 31093, 31069, 31774,\n",
       "       31064, 31539, 30442, 31313, 30474, 31008, 31501, 31029, 30650,\n",
       "       31061, 30501, 30680, 30517, 30533, 30529, 30115, 30096, 30041,\n",
       "       30046, 30467, 30453, 31701, 31719, 31791, 30606, 31901, 31909,\n",
       "       30214, 30143, 30014, 30012, 30655, 31024, 31602, 31639, 31635,\n",
       "       31520, 30274, 31620, 31794, 30642, 30553, 30577, 30117, 30180,\n",
       "       31036, 30512, 30824, 30286, 31830, 31082, 31545, 30106, 30134,\n",
       "       30060, 30076, 30141, 30224, 30233, 30673, 31405, 31404, 30742,\n",
       "       30513, 30535,     0, 30097, 31558, 30240, 30092])"
      ]
     },
     "execution_count": 9,
     "metadata": {},
     "output_type": "execute_result"
    }
   ],
   "source": [
    "hospital_df[\"Hospital Zip Code\"] = hospital_df[\"Hospital Zip Code\"].astype(int)\n",
    "\n",
    "hospital_df[\"Hospital Zip Code\"].unique()\n"
   ]
  },
  {
   "cell_type": "code",
   "execution_count": null,
   "metadata": {},
   "outputs": [],
   "source": []
  }
 ],
 "metadata": {
  "kernelspec": {
   "display_name": "Python 3",
   "language": "python",
   "name": "python3"
  },
  "language_info": {
   "codemirror_mode": {
    "name": "ipython",
    "version": 3
   },
   "file_extension": ".py",
   "mimetype": "text/x-python",
   "name": "python",
   "nbconvert_exporter": "python",
   "pygments_lexer": "ipython3",
   "version": "3.7.6"
  }
 },
 "nbformat": 4,
 "nbformat_minor": 4
}
