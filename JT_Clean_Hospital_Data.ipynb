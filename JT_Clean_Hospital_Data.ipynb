{
 "cells": [
  {
   "cell_type": "code",
   "execution_count": 4,
   "metadata": {},
   "outputs": [],
   "source": [
    "import requests\n",
    "import json\n",
    "import requests\n",
    "from pprint import pprint\n",
    "import pandas as pd\n",
    "import gmaps\n",
    "import matplotlib.pyplot as plt\n"
   ]
  },
  {
   "cell_type": "code",
   "execution_count": 41,
   "metadata": {},
   "outputs": [],
   "source": [
    "# Store filepath in a variable\n",
    "hospital_data = \"Cleaned_Hospitals_v5.csv\"\n",
    "\n"
   ]
  },
  {
   "cell_type": "code",
   "execution_count": 19,
   "metadata": {},
   "outputs": [
    {
     "data": {
      "text/plain": [
       "Unnamed: 0               int64\n",
       "Hospital name           object\n",
       "City                    object\n",
       "County                  object\n",
       "Acute Care Beds         object\n",
       "YearFounded             object\n",
       "Affiliation             object\n",
       "Notes                   object\n",
       "Place ID                object\n",
       "Hospital Latitude      float64\n",
       "Hospital Longtitude    float64\n",
       "Street Address          object\n",
       "State                   object\n",
       "Hospital Zip Code      float64\n",
       "Full Address            object\n",
       "City Zip Code          float64\n",
       "City Latitude          float64\n",
       "City Longtitude        float64\n",
       "Median Income            int64\n",
       "Population               int64\n",
       "Joined                    bool\n",
       "dtype: object"
      ]
     },
     "execution_count": 19,
     "metadata": {},
     "output_type": "execute_result"
    }
   ],
   "source": [
    "# Read our Data file with the pandas library\n",
    "# Not every CSV requires an encoding, but be aware this can come up\n",
    "hospital_df = pd.read_csv(hospital_data, encoding=\"ISO-8859-1\")\n",
    "hospital_df.dtypes"
   ]
  },
  {
   "cell_type": "code",
   "execution_count": 11,
   "metadata": {},
   "outputs": [
    {
     "data": {
      "text/plain": [
       "0      30702.0\n",
       "1      30705.0\n",
       "2      31776.5\n",
       "3      31643.0\n",
       "4      31730.0\n",
       "        ...   \n",
       "612    30833.0\n",
       "613    31096.0\n",
       "614    31097.0\n",
       "615    30582.0\n",
       "616    30295.0\n",
       "Name: City Zip Code, Length: 617, dtype: float64"
      ]
     },
     "execution_count": 11,
     "metadata": {},
     "output_type": "execute_result"
    }
   ],
   "source": [
    "old_zip = hospital_df[\"City Zip Code\"]\n",
    "old_zip"
   ]
  },
  {
   "cell_type": "code",
   "execution_count": 1,
   "metadata": {},
   "outputs": [
    {
     "ename": "NameError",
     "evalue": "name 'hospital_df' is not defined",
     "output_type": "error",
     "traceback": [
      "\u001b[1;31m---------------------------------------------------------------------------\u001b[0m",
      "\u001b[1;31mNameError\u001b[0m                                 Traceback (most recent call last)",
      "\u001b[1;32m<ipython-input-1-3b301eedad40>\u001b[0m in \u001b[0;36m<module>\u001b[1;34m\u001b[0m\n\u001b[0;32m      7\u001b[0m \u001b[1;31m#y = np.array(np.round(old_zip), dtype=int)\u001b[0m\u001b[1;33m\u001b[0m\u001b[1;33m\u001b[0m\u001b[1;33m\u001b[0m\u001b[0m\n\u001b[0;32m      8\u001b[0m \u001b[1;31m#y\u001b[0m\u001b[1;33m\u001b[0m\u001b[1;33m\u001b[0m\u001b[1;33m\u001b[0m\u001b[0m\n\u001b[1;32m----> 9\u001b[1;33m \u001b[0mhospital_df\u001b[0m\u001b[1;33m[\u001b[0m\u001b[1;34m\"City Zip Code\"\u001b[0m\u001b[1;33m]\u001b[0m \u001b[1;33m=\u001b[0m \u001b[0mhospital_df\u001b[0m\u001b[1;33m[\u001b[0m\u001b[1;34m\"City Zip Code\"\u001b[0m\u001b[1;33m]\u001b[0m\u001b[1;33m.\u001b[0m\u001b[0mastype\u001b[0m\u001b[1;33m(\u001b[0m\u001b[0mint\u001b[0m\u001b[1;33m)\u001b[0m\u001b[1;33m\u001b[0m\u001b[1;33m\u001b[0m\u001b[0m\n\u001b[0m\u001b[0;32m     10\u001b[0m \u001b[1;31m#hospital_df[\"Hospital Zip Code\"] =  hospital_df[\"Hospital Zip Code\"].astype(int)\u001b[0m\u001b[1;33m\u001b[0m\u001b[1;33m\u001b[0m\u001b[1;33m\u001b[0m\u001b[0m\n\u001b[0;32m     11\u001b[0m \u001b[1;31m#hospital_df\u001b[0m\u001b[1;33m\u001b[0m\u001b[1;33m\u001b[0m\u001b[1;33m\u001b[0m\u001b[0m\n",
      "\u001b[1;31mNameError\u001b[0m: name 'hospital_df' is not defined"
     ]
    }
   ],
   "source": [
    "#new_zip = str(old_zip).split('.')\n",
    "#new_zip\n",
    "#new_zip = int(old_zip)\n",
    "#new_zip\n",
    "\n",
    "#y = np.array(np.round(x), dtype=int)\n",
    "#y = np.array(np.round(old_zip), dtype=int)\n",
    "#y\n",
    "hospital_df[\"City Zip Code\"] = hospital_df[\"City Zip Code\"].astype(int)\n",
    "#hospital_df[\"Hospital Zip Code\"] =  hospital_df[\"Hospital Zip Code\"].astype(int)\n",
    "#hospital_df\n",
    "\n",
    "hospital_df.to_csv(\"Output/Clean_Hospital_v6.csv\", index=False, header=True)\n"
   ]
  },
  {
   "cell_type": "code",
   "execution_count": null,
   "metadata": {},
   "outputs": [],
   "source": []
  }
 ],
 "metadata": {
  "kernelspec": {
   "display_name": "Python [conda env:PythonData]",
   "language": "python",
   "name": "conda-env-PythonData-py"
  },
  "language_info": {
   "codemirror_mode": {
    "name": "ipython",
    "version": 3
   },
   "file_extension": ".py",
   "mimetype": "text/x-python",
   "name": "python",
   "nbconvert_exporter": "python",
   "pygments_lexer": "ipython3",
   "version": "3.6.10"
  }
 },
 "nbformat": 4,
 "nbformat_minor": 4
}
